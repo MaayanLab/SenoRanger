{
 "cells": [
  {
   "cell_type": "code",
   "execution_count": 1,
   "id": "03ba347b",
   "metadata": {},
   "outputs": [],
   "source": [
    "import qnorm\n",
    "import numpy as np\n",
    "import pandas as pd\n",
    "import warnings\n",
    "import matplotlib.pyplot as plt\n",
    "import plotly.graph_objects as go\n",
    "from IPython.display import HTML, display, Markdown\n",
    "from matplotlib.gridspec import GridSpec\n",
    "from matplotlib_venn import venn2\n",
    "from maayanlab_bioinformatics.normalization import zscore_normalize, log2_normalize\n",
    "from maayanlab_bioinformatics.dge import limma_voom_differential_expression\n",
    "from maayanlab_bioinformatics.harmonization.ncbi_genes import ncbi_genes_lookup\n",
    "import os\n",
    "lookup = ncbi_genes_lookup()\n",
    "\n",
    "import sys\n",
    "import contextlib\n",
    "@contextlib.contextmanager\n",
    "def suppress_output(stdout=True, stderr=True, dest='/dev/null'):\n",
    "    ''' Usage:\n",
    "    with suppress_output():\n",
    "        print('hi')\n",
    "    '''\n",
    "    dev_null = open(dest, 'a')\n",
    "    if stdout:\n",
    "        _stdout = sys.stdout\n",
    "        sys.stdout = dev_null\n",
    "    if stderr:\n",
    "        _stderr = sys.stderr\n",
    "        sys.stderr = dev_null\n",
    "    try:\n",
    "        yield\n",
    "    finally:\n",
    "        if stdout:\n",
    "            sys.stdout = _stdout\n",
    "        if stderr:\n",
    "            sys.stderr = _stderr"
   ]
  },
  {
   "cell_type": "markdown",
   "id": "bca58831",
   "metadata": {},
   "source": [
    "# Target Identification\n",
    "\n",
    "Process all 13 replicatively senescent (RS) samples against a single background, saving the significantly differentially expressed candidates.\n",
    "\n",
    "For the background dataset, use either \"gtex-transcript-stats.tsv\" or \"archs4-transcript-extra-stats.tsv\".\n",
    "\n",
    "(Note: as of 8/24/2022 there was an issue with processing targets against the most updated \"archs4-transcript-stats.tsv\" dataset. Despite large log-FC, adjusted p-values were non-significant.)"
   ]
  },
  {
   "cell_type": "code",
   "execution_count": 4,
   "id": "fe5ec277",
   "metadata": {},
   "outputs": [],
   "source": [
    "home = \"/Users/edendeng/MaayanLab/target-identifier-proteomics-lncrnas/final/cell-aging-revisions/data/RS_transcripts\"\n",
    "df_transcript_gene_map = pd.read_csv(\"s3://storage/Tumor_Gene_Target_Screener/transcript-gene-map.tsv.gz\", storage_options=dict(client_kwargs=dict(endpoint_url=\"https://appyters.maayanlab.cloud\"), anon=True), sep='\\t', header=0, index_col=0, compression='gzip')\n",
    "\n",
    "# Load background dataset\n",
    "df_bg_stats = pd.read_csv(\"s3://storage/Tumor_Gene_Target_Screener/archs4-transcript-extra-stats.tsv\", storage_options=dict(client_kwargs=dict(endpoint_url=\"https://appyters.maayanlab.cloud\"), anon=True), sep='\\t', index_col=[0,1])\n",
    "df_bg_transcripts = df_bg_stats.unstack().index.map(lambda idx: idx.partition('.')[0])\n",
    "df_bg_stats = df_bg_stats.unstack().groupby(df_bg_transcripts, observed=True).sum().stack()\n",
    "df_bg_expr = df_bg_stats.loc[(slice(None), ['25%', '50%', '75%']), :].unstack()\n",
    "\n",
    "for file in os.listdir(home):\n",
    "    # Load RS RNA-seq expression data\n",
    "    df_expr = pd.read_csv(\"{}/{}\".format(home, file), sep='\\t', index_col=0)\n",
    "    rs = file.split(sep=\".tsv\")[0]\n",
    "    df_expr_transcripts = df_expr.index.map(lambda idx: idx.partition('.')[0])\n",
    "    df_expr = df_expr.groupby(df_expr_transcripts, observed=True).sum()\n",
    "    \n",
    "    # Distribution matching between RS samples & the background\n",
    "    common_index = list(set(df_expr.index) & set(df_bg_expr.index))\n",
    "    target_distribution = df_bg_expr.loc[common_index, :].median(axis=1)\n",
    "    df_expr_norm = qnorm.quantile_normalize(df_expr.loc[common_index, :], target=target_distribution)\n",
    "    df_bg_expr_norm = qnorm.quantile_normalize(df_bg_expr.loc[common_index, :], target=target_distribution)\n",
    "    \n",
    "    # Perform differential expression between samples & the background\n",
    "    with suppress_output():\n",
    "        dge = limma_voom_differential_expression(\n",
    "            df_bg_expr_norm, df_expr_norm,\n",
    "            voom_design=True,\n",
    "        )\n",
    "\n",
    "        dge['ensembl_transcript_id'] = dge.index\n",
    "        dge['gene_symbol'] = df_transcript_gene_map.loc[dge.index, 'gene_symbol'].apply(lambda g: lookup(g) or g)\n",
    "        dge['label'] = dge.apply(lambda r: f\"{r['ensembl_transcript_id']} - {r['gene_symbol']}\", axis=1)\n",
    "    \n",
    "    # Narrow down candidate set\n",
    "    dge['-log(adj.P.Val)'] = -np.log(dge['adj.P.Val'])\n",
    "    prod = (np.abs(dge['t']) * dge['logFC'])\n",
    "    dge['is_deg'] = dge['adj.P.Val'] < 0.05\n",
    "    dge['is_significant'] = prod > prod.mean() + 3 * prod.std()\n",
    "    dge['score1'] = dge['is_deg'].astype(int) + dge['is_significant'].astype(int)\n",
    "    \n",
    "    # Save results\n",
    "    path1 = \"/Users/edendeng/MaayanLab/target-identifier-proteomics-lncrnas/final/cell-aging-revisions/results/RS/transcripts/all/ARCHS4_extra/{}_candidates.csv\".format(rs)\n",
    "    dge[dge.score1 >= 2].sort_values(['score1', 't'], ascending=False).to_csv(path1)"
   ]
  },
  {
   "cell_type": "markdown",
   "id": "26741461",
   "metadata": {},
   "source": [
    "# Compile Results\n",
    "\n",
    "For each background, aggregate all the significant targets. For the GTEx targets, we filter out DEXI, which appears to be an artifact of the background data."
   ]
  },
  {
   "cell_type": "code",
   "execution_count": 7,
   "id": "431ed33f",
   "metadata": {},
   "outputs": [],
   "source": [
    "data = []\n",
    "home = \"/Users/edendeng/MaayanLab/target-identifier-proteomics-lncrnas/final/cell-aging-revisions/results/RS/transcripts/all/GTEx\"\n",
    "for file in os.listdir(home):\n",
    "    f = pd.read_csv(\"{}/{}\".format(home, file), index_col=0)\n",
    "    rs = file.split(sep=\"_candidates\")[0]\n",
    "    data.append([ rs, *f.label[f.gene_symbol != 'DEXI'] ])\n",
    "    #data.append([ rs, *f.label ])\n",
    "\n",
    "pd.DataFrame(data).T.to_csv(\"/Users/edendeng/MaayanLab/target-identifier-proteomics-lncrnas/final/cell-aging-revisions/results/gtex_all_transcripts.csv\",\n",
    "                            index=False, header=False)"
   ]
  },
  {
   "cell_type": "code",
   "execution_count": null,
   "id": "72c0a86c",
   "metadata": {},
   "outputs": [],
   "source": []
  }
 ],
 "metadata": {
  "kernelspec": {
   "display_name": "Python 3 (ipykernel)",
   "language": "python",
   "name": "python3"
  },
  "language_info": {
   "codemirror_mode": {
    "name": "ipython",
    "version": 3
   },
   "file_extension": ".py",
   "mimetype": "text/x-python",
   "name": "python",
   "nbconvert_exporter": "python",
   "pygments_lexer": "ipython3",
   "version": "3.10.5"
  },
  "vscode": {
   "interpreter": {
    "hash": "767d51c1340bd893661ea55ea3124f6de3c7a262a8b4abca0554b478b1e2ff90"
   }
  }
 },
 "nbformat": 4,
 "nbformat_minor": 5
}
