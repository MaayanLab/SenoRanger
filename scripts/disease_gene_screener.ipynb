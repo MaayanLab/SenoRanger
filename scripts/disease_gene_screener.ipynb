{
 "cells": [
  {
   "cell_type": "code",
   "execution_count": 1,
   "id": "03ba347b",
   "metadata": {},
   "outputs": [],
   "source": [
    "import qnorm\n",
    "import numpy as np\n",
    "import pandas as pd\n",
    "import warnings\n",
    "import matplotlib.pyplot as plt\n",
    "import plotly.graph_objects as go\n",
    "from IPython.display import HTML, display, Markdown\n",
    "from matplotlib.gridspec import GridSpec\n",
    "from matplotlib_venn import venn2\n",
    "from maayanlab_bioinformatics.normalization import zscore_normalize, log2_normalize\n",
    "from maayanlab_bioinformatics.dge import limma_voom_differential_expression\n",
    "from maayanlab_bioinformatics.harmonization.ncbi_genes import ncbi_genes_lookup\n",
    "import os\n",
    "lookup = ncbi_genes_lookup()\n",
    "\n",
    "import sys\n",
    "import contextlib\n",
    "@contextlib.contextmanager\n",
    "def suppress_output(stdout=True, stderr=True, dest='/dev/null'):\n",
    "    ''' Usage:\n",
    "    with suppress_output():\n",
    "        print('hi')\n",
    "    '''\n",
    "    dev_null = open(dest, 'a')\n",
    "    if stdout:\n",
    "        _stdout = sys.stdout\n",
    "        sys.stdout = dev_null\n",
    "    if stderr:\n",
    "        _stderr = sys.stderr\n",
    "        sys.stderr = dev_null\n",
    "    try:\n",
    "        yield\n",
    "    finally:\n",
    "        if stdout:\n",
    "            sys.stdout = _stdout\n",
    "        if stderr:\n",
    "            sys.stderr = _stderr"
   ]
  },
  {
   "cell_type": "markdown",
   "id": "ec970e0c",
   "metadata": {},
   "source": [
    "# Target Identification\n"
   ]
  },
  {
   "cell_type": "code",
   "execution_count": 4,
   "id": "fe5ec277",
   "metadata": {},
   "outputs": [],
   "source": [
    "# Load background dataset\n",
    "df_bg_expr = pd.read_csv(\"/Users/edendeng/MaayanLab/target-identifier-proteomics-lncrnas/final/cell-aging-revisions/data/IPF/GSE92592_gene_counts_ctrl.txt\", sep='\\t', index_col=0)\n",
    "df_bg_expr_genes = df_bg_expr.index.astype(str).map(lambda idx: lookup(idx.partition('.')[0]))\n",
    "df_bg_expr = df_bg_expr.groupby(df_bg_expr_genes, observed=True).median()\n",
    "\n",
    "# Load RS RNA-seq expression data\n",
    "df_expr = pd.read_csv(\"/Users/edendeng/MaayanLab/target-identifier-proteomics-lncrnas/final/cell-aging-revisions/data/IPF/GSE92592_gene_counts_IPF.txt\", sep='\\t', index_col=0)\n",
    "df_expr_genes = df_expr.index.astype(str).map(lambda idx: lookup(idx.partition('.')[0]))\n",
    "df_expr = df_expr.groupby(df_expr_genes, observed=True).median()\n",
    "    \n",
    "# Distribution matching between RS samples & the background\n",
    "common_index = list(set(df_expr.index) & set(df_bg_expr.index))\n",
    "target_distribution = df_bg_expr.loc[common_index, :].median(axis=1)\n",
    "df_expr_norm = qnorm.quantile_normalize(df_expr.loc[common_index, :], target=target_distribution)\n",
    "df_bg_expr_norm = qnorm.quantile_normalize(df_bg_expr.loc[common_index, :], target=target_distribution)\n",
    "    \n",
    "# Perform differential expression between samples & the background\n",
    "with suppress_output():\n",
    "    dge = limma_voom_differential_expression(\n",
    "        df_bg_expr_norm, df_expr_norm,\n",
    "        voom_design=True,\n",
    "    )\n",
    "    \n",
    "# Narrow down candidate set\n",
    "dge['-log(adj.P.Val)'] = -np.log(dge['adj.P.Val'])\n",
    "prod = (np.abs(dge['t']) * dge['logFC'])\n",
    "dge['is_deg'] = dge['adj.P.Val'] < 0.05\n",
    "dge['is_significant'] = prod > prod.mean() + 3 * prod.std()\n",
    "dge['score1'] = dge['is_deg'].astype(int) + dge['is_significant'].astype(int)\n",
    "    \n",
    "# Save results\n",
    "path1 = \"/Users/edendeng/MaayanLab/target-identifier-proteomics-lncrnas/final/cell-aging-revisions/results/diseases/IPF_degs.csv\"\n",
    "dge[dge.score1 >= 2].sort_values(['score1', 't'], ascending=False).to_csv(path1)"
   ]
  },
  {
   "cell_type": "code",
   "execution_count": 5,
   "id": "04c1fb4b",
   "metadata": {},
   "outputs": [],
   "source": [
    "# Load background dataset\n",
    "df_bg_expr = pd.read_csv(\"/Users/edendeng/MaayanLab/target-identifier-proteomics-lncrnas/final/cell-aging-revisions/data/HF/GSE55296_gene_counts_ctrl.txt\", sep='\\t', index_col=0)\n",
    "df_bg_expr_genes = df_bg_expr.index.astype(str).map(lambda idx: lookup(idx.partition('.')[0]))\n",
    "df_bg_expr = df_bg_expr.groupby(df_bg_expr_genes, observed=True).median()\n",
    "\n",
    "# Load RS RNA-seq expression data\n",
    "df_expr = pd.read_csv(\"/Users/edendeng/MaayanLab/target-identifier-proteomics-lncrnas/final/cell-aging-revisions/data/HF/GSE55296_gene_counts_HF.txt\", sep='\\t', index_col=0)\n",
    "df_expr_genes = df_expr.index.astype(str).map(lambda idx: lookup(idx.partition('.')[0]))\n",
    "df_expr = df_expr.groupby(df_expr_genes, observed=True).median()\n",
    "    \n",
    "# Distribution matching between RS samples & the background\n",
    "common_index = list(set(df_expr.index) & set(df_bg_expr.index))\n",
    "target_distribution = df_bg_expr.loc[common_index, :].median(axis=1)\n",
    "df_expr_norm = qnorm.quantile_normalize(df_expr.loc[common_index, :], target=target_distribution)\n",
    "df_bg_expr_norm = qnorm.quantile_normalize(df_bg_expr.loc[common_index, :], target=target_distribution)\n",
    "    \n",
    "# Perform differential expression between samples & the background\n",
    "with suppress_output():\n",
    "    dge = limma_voom_differential_expression(\n",
    "        df_bg_expr_norm, df_expr_norm,\n",
    "        voom_design=True,\n",
    "    )\n",
    "    \n",
    "# Narrow down candidate set\n",
    "dge['-log(adj.P.Val)'] = -np.log(dge['adj.P.Val'])\n",
    "prod = (np.abs(dge['t']) * dge['logFC'])\n",
    "dge['is_deg'] = dge['adj.P.Val'] < 0.05\n",
    "dge['is_significant'] = prod > prod.mean() + 3 * prod.std()\n",
    "dge['score1'] = dge['is_deg'].astype(int) + dge['is_significant'].astype(int)\n",
    "    \n",
    "# Save results\n",
    "path1 = \"/Users/edendeng/MaayanLab/target-identifier-proteomics-lncrnas/final/cell-aging-revisions/results/diseases/HF_degs.csv\"\n",
    "dge[dge.score1 >= 2].sort_values(['score1', 't'], ascending=False).to_csv(path1)"
   ]
  },
  {
   "cell_type": "markdown",
   "id": "b0b9d8c9",
   "metadata": {},
   "source": [
    "# Compile Results"
   ]
  },
  {
   "cell_type": "code",
   "execution_count": 2,
   "id": "ef72c717",
   "metadata": {},
   "outputs": [],
   "source": [
    "data = []\n",
    "home = \"/Users/edendeng/MaayanLab/target-identifier-proteomics-lncrnas/final/cell-aging-revisions/results/diseases\"\n",
    "for file in os.listdir(home):\n",
    "    f = pd.read_csv(\"{}/{}\".format(home, file), index_col=0)\n",
    "    rs = file.split(sep=\"_degs\")[0]\n",
    "    #data.append([ rs, *f.index[f.index != 'DEXI'] ])\n",
    "    data.append([ rs, *f.index ])\n",
    "\n",
    "pd.DataFrame(data).T.to_csv(\"/Users/edendeng/MaayanLab/target-identifier-proteomics-lncrnas/final/cell-aging-revisions/results/disease_all_genes.csv\",\n",
    "                            index=False, header=False)"
   ]
  },
  {
   "cell_type": "code",
   "execution_count": null,
   "id": "bb4fd812",
   "metadata": {},
   "outputs": [],
   "source": []
  }
 ],
 "metadata": {
  "kernelspec": {
   "display_name": "Python 3 (ipykernel)",
   "language": "python",
   "name": "python3"
  },
  "language_info": {
   "codemirror_mode": {
    "name": "ipython",
    "version": 3
   },
   "file_extension": ".py",
   "mimetype": "text/x-python",
   "name": "python",
   "nbconvert_exporter": "python",
   "pygments_lexer": "ipython3",
   "version": "3.10.5"
  },
  "vscode": {
   "interpreter": {
    "hash": "767d51c1340bd893661ea55ea3124f6de3c7a262a8b4abca0554b478b1e2ff90"
   }
  }
 },
 "nbformat": 4,
 "nbformat_minor": 5
}
